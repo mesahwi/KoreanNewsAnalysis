{
  "nbformat": 4,
  "nbformat_minor": 0,
  "metadata": {
    "colab": {
      "name": "NewsCrawler_Naver.ipynb",
      "version": "0.3.2",
      "provenance": [],
      "collapsed_sections": [],
      "include_colab_link": true
    },
    "kernelspec": {
      "name": "python3",
      "display_name": "Python 3"
    }
  },
  "cells": [
    {
      "cell_type": "markdown",
      "metadata": {
        "id": "view-in-github",
        "colab_type": "text"
      },
      "source": [
        "<a href=\"https://colab.research.google.com/github/mesahwi/TextAnlaysis/blob/master/NewsCrawler_Naver.ipynb\" target=\"_parent\"><img src=\"https://colab.research.google.com/assets/colab-badge.svg\" alt=\"Open In Colab\"/></a>"
      ]
    },
    {
      "cell_type": "markdown",
      "metadata": {
        "id": "raA01acIDulZ",
        "colab_type": "text"
      },
      "source": [
        "This is a simple tutorial of downloading news from naver.com, to google drive"
      ]
    },
    {
      "cell_type": "markdown",
      "metadata": {
        "id": "uJzt5ciPwmed",
        "colab_type": "text"
      },
      "source": [
        "Install chrome driver and selenium"
      ]
    },
    {
      "cell_type": "code",
      "metadata": {
        "id": "3e1slM0ODjL2",
        "colab_type": "code",
        "outputId": "9337ff1e-daa5-4e52-ae4a-00a2ce36acc8",
        "colab": {
          "base_uri": "https://localhost:8080/",
          "height": 227
        }
      },
      "source": [
        "!apt-get update"
      ],
      "execution_count": 1,
      "outputs": [
        {
          "output_type": "stream",
          "text": [
            "\r0% [Working]\r            \rHit:1 https://cloud.r-project.org/bin/linux/ubuntu bionic-cran35/ InRelease\n",
            "\r0% [Connecting to archive.ubuntu.com] [Connecting to security.ubuntu.com (91.18\r0% [1 InRelease gpgv 3,626 B] [Connecting to archive.ubuntu.com] [Connecting to\r                                                                               \rIgn:2 https://developer.download.nvidia.com/compute/cuda/repos/ubuntu1804/x86_64  InRelease\n",
            "\r0% [1 InRelease gpgv 3,626 B] [Connecting to archive.ubuntu.com] [Connecting to\r                                                                               \rIgn:3 https://developer.download.nvidia.com/compute/machine-learning/repos/ubuntu1804/x86_64  InRelease\n",
            "\r0% [1 InRelease gpgv 3,626 B] [Connecting to archive.ubuntu.com (91.189.88.31)]\r                                                                               \rHit:4 https://developer.download.nvidia.com/compute/cuda/repos/ubuntu1804/x86_64  Release\n",
            "\r0% [1 InRelease gpgv 3,626 B] [Connecting to archive.ubuntu.com (91.189.88.31)]\r                                                                               \rHit:5 https://developer.download.nvidia.com/compute/machine-learning/repos/ubuntu1804/x86_64  Release\n",
            "\r0% [1 InRelease gpgv 3,626 B] [Connecting to archive.ubuntu.com (91.189.88.31)]\r0% [Connecting to archive.ubuntu.com (91.189.88.31)] [Waiting for headers] [Wai\r0% [Release.gpg gpgv 564 B] [Connecting to archive.ubuntu.com (91.189.88.31)] [\r                                                                               \rHit:6 http://security.ubuntu.com/ubuntu bionic-security InRelease\n",
            "Hit:7 http://ppa.launchpad.net/graphics-drivers/ppa/ubuntu bionic InRelease\n",
            "Hit:8 http://archive.ubuntu.com/ubuntu bionic InRelease\n",
            "Hit:10 http://archive.ubuntu.com/ubuntu bionic-updates InRelease\n",
            "Hit:11 http://ppa.launchpad.net/marutter/c2d4u3.5/ubuntu bionic InRelease\n",
            "Hit:13 http://archive.ubuntu.com/ubuntu bionic-backports InRelease\n",
            "Reading package lists... Done\n"
          ],
          "name": "stdout"
        }
      ]
    },
    {
      "cell_type": "code",
      "metadata": {
        "id": "37JEkPXADkk4",
        "colab_type": "code",
        "outputId": "ffda7647-d550-4c10-d77b-b0593d607dd0",
        "colab": {
          "base_uri": "https://localhost:8080/",
          "height": 157
        }
      },
      "source": [
        "!apt install chromium-chromedriver"
      ],
      "execution_count": 2,
      "outputs": [
        {
          "output_type": "stream",
          "text": [
            "Reading package lists... Done\n",
            "Building dependency tree       \n",
            "Reading state information... Done\n",
            "chromium-chromedriver is already the newest version (75.0.3770.90-0ubuntu0.18.04.1).\n",
            "The following package was automatically installed and is no longer required:\n",
            "  libnvidia-common-410\n",
            "Use 'apt autoremove' to remove it.\n",
            "0 upgraded, 0 newly installed, 0 to remove and 38 not upgraded.\n"
          ],
          "name": "stdout"
        }
      ]
    },
    {
      "cell_type": "code",
      "metadata": {
        "id": "nlfRXabuDkzz",
        "colab_type": "code",
        "outputId": "e4629f27-f2f6-4f15-a607-d463ffe85b20",
        "colab": {
          "base_uri": "https://localhost:8080/",
          "height": 34
        }
      },
      "source": [
        "!cp /usr/lib/chromium-browser/chromedriver /usr/bin"
      ],
      "execution_count": 3,
      "outputs": [
        {
          "output_type": "stream",
          "text": [
            "cp: '/usr/lib/chromium-browser/chromedriver' and '/usr/bin/chromedriver' are the same file\n"
          ],
          "name": "stdout"
        }
      ]
    },
    {
      "cell_type": "code",
      "metadata": {
        "id": "twAp0BpvDmUH",
        "colab_type": "code",
        "outputId": "4c0c85ed-047c-4b6c-add0-b77b52df9225",
        "colab": {
          "base_uri": "https://localhost:8080/",
          "height": 52
        }
      },
      "source": [
        "!pip install selenium"
      ],
      "execution_count": 4,
      "outputs": [
        {
          "output_type": "stream",
          "text": [
            "Requirement already satisfied: selenium in /usr/local/lib/python3.6/dist-packages (3.141.0)\n",
            "Requirement already satisfied: urllib3 in /usr/local/lib/python3.6/dist-packages (from selenium) (1.24.3)\n"
          ],
          "name": "stdout"
        }
      ]
    },
    {
      "cell_type": "markdown",
      "metadata": {
        "id": "HCHc0WtbMgpT",
        "colab_type": "text"
      },
      "source": [
        "Mount Google Drive"
      ]
    },
    {
      "cell_type": "code",
      "metadata": {
        "id": "qd4cHof4bf5z",
        "colab_type": "code",
        "outputId": "8cfd78c3-b2de-4686-b729-94998ba16083",
        "colab": {
          "base_uri": "https://localhost:8080/",
          "height": 34
        }
      },
      "source": [
        "from google.colab import auth\n",
        "auth.authenticate_user()\n",
        "\n",
        "from google.colab import drive\n",
        "drive.mount('/content/gdrive')"
      ],
      "execution_count": 5,
      "outputs": [
        {
          "output_type": "stream",
          "text": [
            "Drive already mounted at /content/gdrive; to attempt to forcibly remount, call drive.mount(\"/content/gdrive\", force_remount=True).\n"
          ],
          "name": "stdout"
        }
      ]
    },
    {
      "cell_type": "code",
      "metadata": {
        "id": "VFlDulvzMg5R",
        "colab_type": "code",
        "colab": {}
      },
      "source": [
        "import sys\n",
        "import urllib.request\n",
        "from selenium import webdriver\n",
        "import os, time\n",
        "import numpy as np\n",
        "from datetime import timedelta, date\n",
        "\n",
        "options = webdriver.ChromeOptions()\n",
        "options.add_argument('--headless')\n",
        "options.add_argument('--no-sandbox')\n",
        "options.add_argument('--disable-dev-shm-usage')"
      ],
      "execution_count": 0,
      "outputs": []
    },
    {
      "cell_type": "code",
      "metadata": {
        "id": "PAxf1ibDJaQB",
        "colab_type": "code",
        "colab": {}
      },
      "source": [
        "def daterange(start_date, end_date):\n",
        "    for n in range(int ((end_date - start_date).days)):\n",
        "        yield start_date + timedelta(n)"
      ],
      "execution_count": 0,
      "outputs": []
    },
    {
      "cell_type": "markdown",
      "metadata": {
        "id": "O2EJTMmHx4f6",
        "colab_type": "text"
      },
      "source": [
        "Get a list of the user specified articles"
      ]
    },
    {
      "cell_type": "code",
      "metadata": {
        "id": "StNbhKxIDnjn",
        "colab_type": "code",
        "outputId": "54bfc251-e628-4561-dcac-fb12fe04b1bc",
        "colab": {
          "base_uri": "https://localhost:8080/",
          "height": 34
        }
      },
      "source": [
        "base_dir = 'gdrive/Shared drives/텍스트마이닝/News Analysis/'\n",
        "\n",
        "start_date = date(2019,1,8)\n",
        "end_date = date(2019,7,8)\n",
        "\n",
        "paper = 'Chosun'\n",
        "section = 'tech'\n",
        "\n",
        "savePath = base_dir + paper + '/' + section + '/'\n",
        "\n",
        "if paper == 'Chosun':\n",
        "  oid = '023'\n",
        "elif paper == 'Donga':\n",
        "  oid = '020'\n",
        "elif paper == 'Han':\n",
        "  oid = '028'\n",
        "elif paper == 'Kyung':\n",
        "  oid = '032'\n",
        "elif paper == 'Chung':\n",
        "  oid = '025'\n",
        "elif paper == 'Presian':\n",
        "  oid = '002'\n",
        "\n",
        "if section == 'politics':\n",
        "  sid1 = '100'\n",
        "elif section == 'tech':\n",
        "  sid1 = '105'\n",
        "elif section == 'society':\n",
        "  sid1 = '103'\n",
        "  \n",
        "\n",
        "list_baseurl = 'https://news.naver.com/main/list.nhn?mode=LPOD&sid1=' + sid1+ '&mid=shm&oid=' + oid + '&listType=title&date='\n",
        "list_hrefList = []\n",
        "\n",
        "directory = os.getcwd()\n",
        "driver = webdriver.Chrome('chromedriver',options=options)\n",
        "driver.implicitly_wait(1)\n",
        "\n",
        "print('opening selenium...')\n",
        "for single_date in daterange(start_date, end_date):\n",
        "  search_date = single_date.strftime('%Y%m%d')\n",
        "  driver.get(list_baseurl+search_date)\n",
        "  elements = driver.find_elements_by_xpath('//*[@id=\"main_content\"]/div[2]/ul[*]/li[*]/a')\n",
        "  for i, element in enumerate(elements):\n",
        "    if i > 5 : break  # max 4 articles per day\n",
        "    list_hrefList.append(element.get_attribute('href'))\n",
        "    \n",
        "    \n",
        "hrefList = np.unique(list_hrefList)"
      ],
      "execution_count": 8,
      "outputs": [
        {
          "output_type": "stream",
          "text": [
            "opening selenium...\n"
          ],
          "name": "stdout"
        }
      ]
    },
    {
      "cell_type": "code",
      "metadata": {
        "id": "UROdBSpGk3wS",
        "colab_type": "code",
        "outputId": "c7474682-fe88-445c-bb25-184d43420e87",
        "colab": {
          "base_uri": "https://localhost:8080/",
          "height": 139
        }
      },
      "source": [
        "#check save path and the first 5\n",
        "print(savePath)\n",
        "print(hrefList[:5])\n",
        "print(len(hrefList))"
      ],
      "execution_count": 9,
      "outputs": [
        {
          "output_type": "stream",
          "text": [
            "gdrive/Shared drives/텍스트마이닝/News Analysis/Chosun/tech/\n",
            "['https://news.naver.com/main/read.nhn?mode=LPOD&mid=shm&sid1=105&oid=023&aid=0003420242'\n",
            " 'https://news.naver.com/main/read.nhn?mode=LPOD&mid=shm&sid1=105&oid=023&aid=0003420243'\n",
            " 'https://news.naver.com/main/read.nhn?mode=LPOD&mid=shm&sid1=105&oid=023&aid=0003420244'\n",
            " 'https://news.naver.com/main/read.nhn?mode=LPOD&mid=shm&sid1=105&oid=023&aid=0003420415'\n",
            " 'https://news.naver.com/main/read.nhn?mode=LPOD&mid=shm&sid1=105&oid=023&aid=0003420429']\n",
            "592\n"
          ],
          "name": "stdout"
        }
      ]
    },
    {
      "cell_type": "markdown",
      "metadata": {
        "id": "Rbhmh3keyEOn",
        "colab_type": "text"
      },
      "source": [
        "Download the articles in the list"
      ]
    },
    {
      "cell_type": "code",
      "metadata": {
        "id": "fRX-XlMRYQJZ",
        "colab_type": "code",
        "outputId": "7f8212f7-9510-4a57-ddab-0a25c10fd8ca",
        "colab": {
          "base_uri": "https://localhost:8080/",
          "height": 227
        }
      },
      "source": [
        "#downlad articles! \n",
        "article_xpath = '//*[@id=\"articleBodyContents\"]'\n",
        "\n",
        "for i, href in enumerate(hrefList):\n",
        "  if(i%50 == 0):\n",
        "    print(str(i) + 'th article downloading...')\n",
        "  driver.get(href)\n",
        "  article = driver.find_elements_by_xpath(article_xpath)\n",
        "  if len(article) > 0 :\n",
        "    f = open(savePath+href[-10:]+'.txt', 'w')\n",
        "    f.write(article[0].text)\n",
        "    f.close()\n",
        "  else : \n",
        "    print('invalid url will be ignored... : ', href)"
      ],
      "execution_count": 10,
      "outputs": [
        {
          "output_type": "stream",
          "text": [
            "0th article downloading...\n",
            "50th article downloading...\n",
            "100th article downloading...\n",
            "150th article downloading...\n",
            "200th article downloading...\n",
            "250th article downloading...\n",
            "300th article downloading...\n",
            "350th article downloading...\n",
            "400th article downloading...\n",
            "450th article downloading...\n",
            "500th article downloading...\n",
            "550th article downloading...\n"
          ],
          "name": "stdout"
        }
      ]
    },
    {
      "cell_type": "markdown",
      "metadata": {
        "id": "0kGbAUUyxP9D",
        "colab_type": "text"
      },
      "source": [
        "Check how many articles were actually downloaded"
      ]
    },
    {
      "cell_type": "code",
      "metadata": {
        "id": "JR5NBud5vDGh",
        "colab_type": "code",
        "outputId": "facd0fd8-1a93-4cc1-834e-5e161ff56f4a",
        "colab": {
          "base_uri": "https://localhost:8080/",
          "height": 34
        }
      },
      "source": [
        "ls 'gdrive/Shared drives/텍스트마이닝/News Analysis/Chosun/tech'| wc -l"
      ],
      "execution_count": 11,
      "outputs": [
        {
          "output_type": "stream",
          "text": [
            "592\n"
          ],
          "name": "stdout"
        }
      ]
    }
  ]
}